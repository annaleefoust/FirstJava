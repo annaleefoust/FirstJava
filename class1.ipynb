{
 "cells": [
  {
   "cell_type": "code",
   "execution_count": 1,
   "id": "ff7089e9-c98c-4f7b-a5c3-48153adfe188",
   "metadata": {},
   "outputs": [
    {
     "data": {
      "text/plain": [
       "'Annnalee'"
      ]
     },
     "execution_count": 1,
     "metadata": {},
     "output_type": "execute_result"
    }
   ],
   "source": [
    "\"Annnalee\""
   ]
  },
  {
   "cell_type": "code",
   "execution_count": 3,
   "id": "1b95c6a4-ff84-40fb-82ba-e9662cd1d47d",
   "metadata": {},
   "outputs": [
    {
     "name": "stdout",
     "output_type": "stream",
     "text": [
      "4\n",
      "4\n",
      "4\n",
      "1.0\n",
      "0\n",
      "-5\n"
     ]
    }
   ],
   "source": [
    "print(2+2)\n",
    "print(2*2)\n",
    "print(2**2)\n",
    "print(2/2)\n",
    "print(3//9)\n",
    "print(5-10)\n"
   ]
  },
  {
   "cell_type": "code",
   "execution_count": 7,
   "id": "7a17cac2-e297-4ad1-b693-d66b543d7e04",
   "metadata": {},
   "outputs": [
    {
     "data": {
      "text/plain": [
       "-5"
      ]
     },
     "execution_count": 7,
     "metadata": {},
     "output_type": "execute_result"
    }
   ],
   "source": [
    "2+2\n",
    "2*2\n",
    "2**2\n",
    "2/2\n",
    "3//9\n",
    "5-10"
   ]
  },
  {
   "cell_type": "code",
   "execution_count": 9,
   "id": "89f86b7c-6039-481f-a1c3-2b5c3a926faa",
   "metadata": {},
   "outputs": [
    {
     "data": {
      "text/plain": [
       "'must have print infront of numbers or it will only show one result.'"
      ]
     },
     "execution_count": 9,
     "metadata": {},
     "output_type": "execute_result"
    }
   ],
   "source": [
    "\"must have print infront of numbers or it will only show one result.\""
   ]
  },
  {
   "cell_type": "code",
   "execution_count": 11,
   "id": "ade64430-a08c-4adb-9983-7ae06620f19b",
   "metadata": {},
   "outputs": [],
   "source": [
    "python = 1"
   ]
  },
  {
   "cell_type": "code",
   "execution_count": 15,
   "id": "e5abd30d-bf86-410a-9635-5154acce729a",
   "metadata": {},
   "outputs": [
    {
     "data": {
      "text/plain": [
       "2"
      ]
     },
     "execution_count": 15,
     "metadata": {},
     "output_type": "execute_result"
    }
   ],
   "source": [
    "python + 1"
   ]
  },
  {
   "cell_type": "code",
   "execution_count": 17,
   "id": "945a2e57-0098-4c9f-9a7e-76d1cd794bb7",
   "metadata": {},
   "outputs": [
    {
     "data": {
      "text/plain": [
       "2"
      ]
     },
     "execution_count": 17,
     "metadata": {},
     "output_type": "execute_result"
    }
   ],
   "source": [
    "python + int('1')"
   ]
  },
  {
   "cell_type": "code",
   "execution_count": null,
   "id": "ac1a3d25-10c7-42b2-817d-06c0fd63e50b",
   "metadata": {},
   "outputs": [
    {
     "name": "stdout",
     "output_type": "stream",
     "text": [
      "Hello, world!\n",
      "What is your name?\n"
     ]
    }
   ],
   "source": [
    "print(\"Hello, world!\")\n",
    "print('What is your name?')\n",
    "myname = input()\n",
    "print(\"It is good to meet you, \" + myname)\n"
   ]
  },
  {
   "cell_type": "code",
   "execution_count": null,
   "id": "cb480c77-0eea-48d1-a6b5-5451132015e9",
   "metadata": {},
   "outputs": [],
   "source": []
  }
 ],
 "metadata": {
  "kernelspec": {
   "display_name": "Python [conda env:base] *",
   "language": "python",
   "name": "conda-base-py"
  },
  "language_info": {
   "codemirror_mode": {
    "name": "ipython",
    "version": 3
   },
   "file_extension": ".py",
   "mimetype": "text/x-python",
   "name": "python",
   "nbconvert_exporter": "python",
   "pygments_lexer": "ipython3",
   "version": "3.12.7"
  }
 },
 "nbformat": 4,
 "nbformat_minor": 5
}
