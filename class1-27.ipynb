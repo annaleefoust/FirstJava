{
 "cells": [
  {
   "cell_type": "code",
   "execution_count": 2,
   "id": "1038ce98-a5a7-43f1-94fa-787eaff2690a",
   "metadata": {},
   "outputs": [
    {
     "name": "stdout",
     "output_type": "stream",
     "text": [
      "True\n",
      "False\n",
      "False\n"
     ]
    }
   ],
   "source": [
    "print (42 == 42)\n",
    "print (42 != 42)\n",
    "print (42 == '42')"
   ]
  },
  {
   "cell_type": "code",
   "execution_count": 4,
   "id": "cc80177e-3b56-40f1-8c52-4554c2c74b19",
   "metadata": {},
   "outputs": [
    {
     "data": {
      "text/plain": [
       "False"
      ]
     },
     "execution_count": 4,
     "metadata": {},
     "output_type": "execute_result"
    }
   ],
   "source": [
    "(5 < 6) and (6 < 5)"
   ]
  },
  {
   "cell_type": "code",
   "execution_count": 8,
   "id": "1f6a097d-5fd4-4c5c-a949-a29b154a7703",
   "metadata": {},
   "outputs": [
    {
     "data": {
      "text/plain": [
       "True"
      ]
     },
     "execution_count": 8,
     "metadata": {},
     "output_type": "execute_result"
    }
   ],
   "source": [
    "(5 < 6) or (6 < 5)"
   ]
  },
  {
   "cell_type": "code",
   "execution_count": 12,
   "id": "c8f3a497-97ec-45f5-baf8-739dfe979724",
   "metadata": {},
   "outputs": [
    {
     "data": {
      "text/plain": [
       "False"
      ]
     },
     "execution_count": 12,
     "metadata": {},
     "output_type": "execute_result"
    }
   ],
   "source": [
    "(7 < 6) and (6 < 5)"
   ]
  },
  {
   "cell_type": "code",
   "execution_count": 30,
   "id": "065d4732-ce84-4e27-aef6-9762b44ac4eb",
   "metadata": {},
   "outputs": [
    {
     "name": "stdin",
     "output_type": "stream",
     "text": [
      " apple apple1\n"
     ]
    },
    {
     "name": "stdout",
     "output_type": "stream",
     "text": [
      "Enter your passwrod\n",
      "ID is correct\n",
      "Password is not correct\n"
     ]
    }
   ],
   "source": [
    "ID = 'apple'\n",
    "Password = input()\n",
    "print (\"Enter your passwrod\")\n",
    "\n",
    "if ID == 'apple':\n",
    "    print ('ID is correct')\n",
    "    if Password == 'apple1':\n",
    "        print (\"Password is correct\")\n",
    "    else:\n",
    "        print (\"Password is not correct\")"
   ]
  },
  {
   "cell_type": "code",
   "execution_count": null,
   "id": "f9d45595-fa5b-4e8e-b951-b18efb6ad676",
   "metadata": {},
   "outputs": [],
   "source": [
    "score = input()\n",
    "print (\"Your score \", score)\n",
    "\n",
    "score = int(score)\n",
    "\n",
    "if score > 90:\n",
    "    print (\"Your grade is A\")\n",
    "elif score > 80:\n",
    "    print (\"Your grade is B\")\n",
    "elif score > 70:\n",
    "    print (\"Your grade is C\")\n",
    "elif score > 60:\n",
    "    print (\"Your grade is D\")\n",
    "else: \n",
    "    print (\"Your grade is F\")\n",
    "    "
   ]
  },
  {
   "cell_type": "code",
   "execution_count": null,
   "id": "11bb1251-a5aa-4969-8617-13a3cd35cd54",
   "metadata": {},
   "outputs": [],
   "source": []
  },
  {
   "cell_type": "code",
   "execution_count": null,
   "id": "3d092e97-32d0-4601-9085-635f4294bfee",
   "metadata": {},
   "outputs": [],
   "source": []
  },
  {
   "cell_type": "code",
   "execution_count": null,
   "id": "859c6002-fe50-488f-89eb-fb266b24728e",
   "metadata": {},
   "outputs": [],
   "source": []
  }
 ],
 "metadata": {
  "kernelspec": {
   "display_name": "Python [conda env:base] *",
   "language": "python",
   "name": "conda-base-py"
  },
  "language_info": {
   "codemirror_mode": {
    "name": "ipython",
    "version": 3
   },
   "file_extension": ".py",
   "mimetype": "text/x-python",
   "name": "python",
   "nbconvert_exporter": "python",
   "pygments_lexer": "ipython3",
   "version": "3.12.7"
  }
 },
 "nbformat": 4,
 "nbformat_minor": 5
}
