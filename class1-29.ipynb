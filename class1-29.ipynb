{
 "cells": [
  {
   "cell_type": "code",
   "execution_count": 6,
   "id": "85dcfd1a-9b1f-4c8f-bf28-e7deaab9d0fa",
   "metadata": {},
   "outputs": [
    {
     "name": "stdout",
     "output_type": "stream",
     "text": [
      "I am thinking of a number between 1 and 20.\n",
      "Take a guess.\n"
     ]
    },
    {
     "name": "stdin",
     "output_type": "stream",
     "text": [
      " 19\n"
     ]
    },
    {
     "name": "stdout",
     "output_type": "stream",
     "text": [
      "Your guess is too high.\n",
      "Take a guess.\n"
     ]
    },
    {
     "name": "stdin",
     "output_type": "stream",
     "text": [
      " 13\n"
     ]
    },
    {
     "name": "stdout",
     "output_type": "stream",
     "text": [
      "Your guess is too high.\n",
      "Take a guess.\n"
     ]
    },
    {
     "name": "stdin",
     "output_type": "stream",
     "text": [
      " 11\n"
     ]
    },
    {
     "name": "stdout",
     "output_type": "stream",
     "text": [
      "Your guess is too high.\n",
      "Take a guess.\n"
     ]
    },
    {
     "name": "stdin",
     "output_type": "stream",
     "text": [
      " 9\n"
     ]
    },
    {
     "name": "stdout",
     "output_type": "stream",
     "text": [
      "Your guess is too high.\n",
      "Take a guess.\n"
     ]
    },
    {
     "name": "stdin",
     "output_type": "stream",
     "text": [
      " 4\n"
     ]
    },
    {
     "name": "stdout",
     "output_type": "stream",
     "text": [
      "Your guess is too high.\n",
      "Take a guess.\n"
     ]
    },
    {
     "name": "stdin",
     "output_type": "stream",
     "text": [
      " 2\n"
     ]
    },
    {
     "name": "stdout",
     "output_type": "stream",
     "text": [
      "Your guess is too high.\n",
      "Nope. The number I was thinking of was 1\n"
     ]
    }
   ],
   "source": [
    "# this is a guess the number game\n",
    "import random\n",
    "secretNumber = random.randint(1, 20)\n",
    "print ('I am thinking of a number between 1 and 20.')\n",
    "\n",
    "# ask the player to guess 6 times.\n",
    "for guessesTaken in range(1, 7):\n",
    "    print('Take a guess.')\n",
    "    guess = int(input())\n",
    "\n",
    "    if guess < secretNumber:\n",
    "        print('Your guess is too low.')\n",
    "    elif guess > secretNumber:\n",
    "        print('Your guess is too high.')\n",
    "    else: \n",
    "        break # this condition is the correct guess!\n",
    "\n",
    "if guess == secretNumber:\n",
    "    print('Good job! You guessed my number in ' + str(guessesTaken) + ' guesses!')\n",
    "else: \n",
    "    print('Nope. The number I was thinking of was ' + str(secretNumber))"
   ]
  },
  {
   "cell_type": "code",
   "execution_count": null,
   "id": "92a7db08-6a63-4b88-8fd3-23bb1f1ee00d",
   "metadata": {},
   "outputs": [],
   "source": [
    "import random, sys\n",
    "print('ROCK, PAPER, SCISSORS')\n",
    "\n",
    "# these variables keep track of the number of wins, losses, and ties.\n",
    "wins = 0 \n",
    "losses = 0\n",
    "ties = 0\n",
    "\n",
    "while True: # the main game loop.\n",
    "    print('%s Wins, %s Losses, %s Ties' % (wins, losses, ties))\n",
    "    while True: # the player input loop.\n",
    "        print('Enter your move: (r)ock (p)aper (s)cissors or (q)uit')\n",
    "        playerMove = input()\n",
    "        if playerMove == 'q':\n",
    "            sys.exit() #quit the program\n",
    "        if playerMove == 'r' or playerMove == 'p' or playerMove == 's':\n",
    "            break # break out of the player input loop.\n",
    "        print('Type one of r, p, s, or q.')\n",
    "\n",
    "    # display what the player chose:\n",
    "    if playerMove == 'r':\n",
    "        print('ROCK versus...')\n",
    "    elif playerMove == 'p':\n",
    "        print('PAPER versus...')\n",
    "    elif playerMove == 's':\n",
    "        print('SCISSORS versus...')\n",
    "\n",
    "    #display what the computer chose:\n",
    "    randomNumber = random.randint(1, 3)\n",
    "    if randomNumber == 1:\n",
    "        computerMove = 'r'\n",
    "        print('ROCK')\n",
    "    elif randomNumber == 2:\n",
    "        computerMove = 'p'\n",
    "        print('PAPER')\n",
    "    elif randomNumber == 3:\n",
    "        computerMove = 's'\n",
    "        print('SCISSORS')\n",
    "    \n",
    "    # display and record the win/loss/tie:\n",
    "    if playerMove == computerMove:\n",
    "        print('It is a tie!')\n",
    "        ties = ties + 1\n",
    "    elif playerMove == 'r' and computerMove == 's':\n",
    "        print('You win')\n",
    "        wins = wins + 1\n",
    "    elif playerMove == 'p' and computerMove == 'r':\n",
    "        print('You win!')\n",
    "        wins = wins + 1\n",
    "    elif playerMove == 's' and computerMove == 'p':\n",
    "        print('You win!')\n",
    "        wins = wins + 1\n",
    "    elif playerMove == 'r' and computerMove == 'p':\n",
    "        print('You lose!')\n",
    "        losses = losses + 1\n",
    "    elif playerMove == 'p' and computerMove == 's':\n",
    "        print('You lose!')\n",
    "        losses = losses + 1\n",
    "    elif playerMove == 's' and computerMove == 'r':\n",
    "        print('You lose!')\n",
    "        losses = losses + 1"
   ]
  },
  {
   "cell_type": "code",
   "execution_count": null,
   "id": "1855566b-5905-433a-916e-502c2cb9f03d",
   "metadata": {},
   "outputs": [],
   "source": []
  }
 ],
 "metadata": {
  "kernelspec": {
   "display_name": "Python [conda env:base] *",
   "language": "python",
   "name": "conda-base-py"
  },
  "language_info": {
   "codemirror_mode": {
    "name": "ipython",
    "version": 3
   },
   "file_extension": ".py",
   "mimetype": "text/x-python",
   "name": "python",
   "nbconvert_exporter": "python",
   "pygments_lexer": "ipython3",
   "version": "3.12.7"
  }
 },
 "nbformat": 4,
 "nbformat_minor": 5
}
